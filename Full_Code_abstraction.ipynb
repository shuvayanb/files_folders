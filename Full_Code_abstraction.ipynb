{
 "cells": [
  {
   "cell_type": "code",
   "execution_count": 1,
   "id": "e06f9bfe-5b6e-411e-9a96-0ac82c841e9d",
   "metadata": {},
   "outputs": [],
   "source": [
    "# 1. Install required packages (run once)\n",
    "#!pip install langchain langchain-community unstructured chromadb\n",
    "#!pip install langchain unstructured chromadb"
   ]
  },
  {
   "cell_type": "code",
   "execution_count": 27,
   "id": "2253b9ab-4fef-4dee-9feb-9f8391751dd1",
   "metadata": {},
   "outputs": [],
   "source": [
    "# 2. Configuration — edit these:\n",
    "GITHUB_REPO_URL = \"https://github.com/devitocodes/devito.git\"\n",
    "CLONE_DIR        = \"devito\" \n",
    "PERSIST_CODE     = \"chroma_code_cells\"\n",
    "CHUNK_SIZE       = 500\n",
    "CHUNK_OVERLAP    = 100\n",
    "\n",
    "import os, shutil\n",
    "from pathlib import Path\n",
    "\n",
    "import nbformat\n",
    "from langchain.schema import Document\n",
    "from langchain_community.document_loaders.python import PythonLoader\n",
    "from langchain.text_splitter import RecursiveCharacterTextSplitter\n",
    "from langchain.embeddings import OpenAIEmbeddings\n",
    "from langchain.vectorstores import Chroma\n",
    "from collections import Counter"
   ]
  },
  {
   "cell_type": "code",
   "execution_count": 2,
   "id": "28816af0-fe5b-4f10-83d4-ac63668e9a68",
   "metadata": {},
   "outputs": [],
   "source": [
    "# # 3. Clone (or re-clone) the repo\n",
    "# if os.path.exists(CLONE_DIR):\n",
    "#     shutil.rmtree(CLONE_DIR)\n",
    "# !git clone {GITHUB_REPO_URL} {CLONE_DIR}"
   ]
  },
  {
   "cell_type": "code",
   "execution_count": 16,
   "id": "54d1b325-0f61-4e14-8a7e-57ed47742b38",
   "metadata": {},
   "outputs": [
    {
     "name": "stdout",
     "output_type": "stream",
     "text": [
      "Loaded 616 code‐cell documents.\n"
     ]
    }
   ],
   "source": [
    "# 4. Load ONLY code cells as Documents (no markdown)\n",
    "code_docs = []\n",
    "\n",
    "Doc_path = CLONE_DIR+'/examples/seismic/'\n",
    "\n",
    "# 4a. Notebook code cells\n",
    "for nb_path in Path(Doc_path).rglob(\"*.ipynb\"):\n",
    "    nb = nbformat.read(nb_path, as_version=4)\n",
    "    for idx, cell in enumerate(nb.cells):\n",
    "        if cell.cell_type == \"code\" and cell.source.strip():\n",
    "            code_docs.append(Document(\n",
    "                page_content=cell.source,\n",
    "                metadata={\n",
    "                    \"source\": str(nb_path),\n",
    "                    \"cell_index\": idx\n",
    "                }\n",
    "            ))\n",
    "\n",
    "# 4b. Optional: treat whole .py files as single code “cell”\n",
    "for py_path in Path(Doc_path).rglob(\"*.py\"):\n",
    "    text = py_path.read_text()\n",
    "    if text.strip():\n",
    "        code_docs.append(Document(\n",
    "            page_content=text,\n",
    "            metadata={\n",
    "                \"source\": str(py_path),\n",
    "                \"cell_index\": -1      # indicate “script” vs notebook\n",
    "            }\n",
    "        ))\n",
    "\n",
    "print(f\"Loaded {len(code_docs)} code‐cell documents.\")\n"
   ]
  },
  {
   "cell_type": "code",
   "execution_count": 17,
   "id": "c51847f1-c8dc-4ed5-b66e-a564fa909fd7",
   "metadata": {},
   "outputs": [
    {
     "name": "stdout",
     "output_type": "stream",
     "text": [
      "OPENAI_API_KEY found: True\n"
     ]
    }
   ],
   "source": [
    "api_key = os.environ[\"OPENAI_API_KEY\"]\n",
    "print(\"OPENAI_API_KEY found:\", \"OPENAI_API_KEY\" in os.environ)\n"
   ]
  },
  {
   "cell_type": "code",
   "execution_count": null,
   "id": "cb7feda9-8650-474c-8001-31e2df79d126",
   "metadata": {},
   "outputs": [],
   "source": []
  },
  {
   "cell_type": "code",
   "execution_count": 25,
   "id": "8101bc63-4c2b-4381-93f6-501f4c7227f4",
   "metadata": {},
   "outputs": [
    {
     "name": "stdout",
     "output_type": "stream",
     "text": [
      "Indexed code‐cells in Chroma at: chroma_code_cells\n"
     ]
    }
   ],
   "source": [
    "embeddings = OpenAIEmbeddings(openai_api_key=os.environ[\"OPENAI_API_KEY\"])\n",
    "vectordb_cells = Chroma.from_documents(\n",
    "    documents=code_docs,        # 📄 our list of code‐cell Documents\n",
    "    embedding=embeddings,       # 🔢 the embedding function\n",
    "    persist_directory=PERSIST_CELLS  # 📂 where to persist\n",
    ")\n",
    "vectordb_cells.persist()\n",
    "print(\"Indexed code‐cells in Chroma at:\", PERSIST_CELLS)"
   ]
  },
  {
   "cell_type": "code",
   "execution_count": null,
   "id": "da103ba5-242a-45a9-9f86-12881b5ecdd9",
   "metadata": {},
   "outputs": [],
   "source": []
  },
  {
   "cell_type": "code",
   "execution_count": 29,
   "id": "ddceabee-a83e-4c24-96be-918fd77dbed1",
   "metadata": {},
   "outputs": [
    {
     "name": "stdout",
     "output_type": "stream",
     "text": [
      "Best match source: devito/examples/seismic/tutorials/05_staggered_acoustic.ipynb\n",
      "\n",
      "--- Continuous code from top to bottom ---\n",
      "\n",
      "from devito import *\n",
      "from examples.seismic.source import DGaussSource, TimeAxis\n",
      "from examples.seismic import plot_image\n",
      "import numpy as np\n",
      "\n",
      "from sympy import init_printing, latex\n",
      "init_printing(use_latex='mathjax')\n",
      "\n",
      "\n",
      "# Initial grid: 1km x 1km, with spacing 100m\n",
      "extent = (2000., 2000.)\n",
      "shape = (81, 81)\n",
      "x = SpaceDimension(name='x', spacing=Constant(name='h_x', value=extent[0]/(shape[0]-1)))\n",
      "z = SpaceDimension(name='z', spacing=Constant(name='h_z', value=extent[1]/(shape[1]-1)))\n",
      "grid = Grid(extent=extent, shape=shape, dimensions=(x, z))\n",
      "\n",
      "\n",
      "# Timestep size from Eq. 7 with V_p=6000. and dx=100\n",
      "t0, tn = 0., 200.\n",
      "dt = 1e2*(1. / np.sqrt(2.)) / 60.\n",
      "time_range = TimeAxis(start=t0, stop=tn, step=dt)\n",
      "\n",
      "src = DGaussSource(name='src', grid=grid, f0=0.01, time_range=time_range, a=0.004)\n",
      "src.coordinates.data[:] = [1000., 1000.]\n",
      "\n",
      "\n",
      "#NBVAL_SKIP\n",
      "\n",
      "src.show()\n",
      "\n",
      "\n",
      "# Now we create the velocity and pressure fields\n",
      "p = TimeFunction(name='p', grid=grid, staggered=NODE, space_order=2, time_order=1)\n",
      "v = VectorTimeFunction(name='v', grid=grid, space_order=2, time_order=1)\n",
      "\n",
      "\n",
      "from devito.finite_differences.operators import div, grad\n",
      "t = grid.stepping_dim\n",
      "time = grid.time_dim\n",
      "\n",
      "# We need some initial conditions\n",
      "V_p = 4.0\n",
      "density = 1.\n",
      "\n",
      "ro = 1/density\n",
      "l2m = V_p*V_p*density\n",
      "\n",
      "# The source injection term\n",
      "src_p = src.inject(field=p.forward, expr=src)\n",
      "\n",
      "# 2nd order acoustic according to fdelmoc\n",
      "u_v_2 = Eq(v.forward, solve(v.dt - ro * grad(p), v.forward))\n",
      "u_p_2 = Eq(p.forward, solve(p.dt - l2m * div(v.forward), p.forward))\n",
      "\n",
      "\n",
      "u_v_2\n",
      "\n",
      "\n",
      "u_p_2\n",
      "\n",
      "\n",
      "op_2 = Operator([u_v_2, u_p_2] + src_p)\n",
      "\n",
      "\n",
      "#NBVAL_IGNORE_OUTPUT\n",
      "\n",
      "# Propagate the source\n",
      "op_2(time=src.time_range.num-1, dt=dt)\n",
      "\n",
      "\n",
      "#NBVAL_SKIP\n",
      "\n",
      "# Let's see what we got....\n",
      "plot_image(v[0].data[0])\n",
      "plot_image(v[1].data[0])\n",
      "plot_image(p.data[0])\n",
      "\n",
      "\n",
      "norm_p = norm(p)\n",
      "assert np.isclose(norm_p, .35098, atol=1e-4, rtol=0)\n",
      "\n",
      "\n",
      "# # 4th order acoustic according to fdelmoc\n",
      "p4 = TimeFunction(name='p', grid=grid, staggered=NODE, space_order=4, time_order=1)\n",
      "v4 = VectorTimeFunction(name='v', grid=grid, space_order=4, time_order=1)\n",
      "src_p = src.inject(field=p4.forward, expr=src)\n",
      "u_v_4 = Eq(v4.forward, solve(v4.dt - ro * grad(p4), v4.forward))\n",
      "u_p_4 = Eq(p4.forward, solve(p4.dt - l2m * div(v4.forward), p4.forward))\n",
      "\n",
      "\n",
      "#NBVAL_IGNORE_OUTPUT\n",
      "op_4 = Operator([u_v_4, u_p_4] + src_p)\n",
      "# Propagate the source\n",
      "op_4(time=src.time_range.num-1, dt=dt)\n",
      "\n",
      "\n",
      "#NBVAL_SKIP\n",
      "\n",
      "# Let's see what we got....\n",
      "plot_image(v4[0].data[-1])\n",
      "plot_image(v4[1].data[-1])\n",
      "plot_image(p4.data[-1])\n",
      "\n",
      "\n",
      "norm_p = norm(p4)\n",
      "assert np.isclose(norm_p, .33736, atol=1e-4, rtol=0)\n",
      "\n",
      "\n"
     ]
    }
   ],
   "source": [
    "query = \"forward wavefield simulation using devito\"\n",
    "# 6a. Get top 30 code cells matching the query\n",
    "raw_hits = vectordb_cells.similarity_search(query, k=30)\n",
    "\n",
    "# 6b. Identify which notebook/script appears most often\n",
    "counts = Counter(hit.metadata[\"source\"] for hit in raw_hits)\n",
    "best_source = counts.most_common(1)[0][0]\n",
    "print(f\"Best match source: {best_source}\")\n",
    "\n",
    "# 6c. Pull all code_docs from that source and sort by cell_index\n",
    "selected = [\n",
    "    d for d in code_docs \n",
    "    if d.metadata[\"source\"] == best_source\n",
    "]\n",
    "selected.sort(key=lambda d: d.metadata[\"cell_index\"])\n",
    "\n",
    "# 6d. Print them in order, giving you the continuous code\n",
    "print(\"\\n--- Continuous code from top to bottom ---\\n\")\n",
    "for doc in selected:\n",
    "    print(doc.page_content)\n",
    "    print(\"\\n\")      # spacer between cells\n"
   ]
  },
  {
   "cell_type": "code",
   "execution_count": null,
   "id": "659876af-374c-484e-8e72-0d096e84daff",
   "metadata": {},
   "outputs": [],
   "source": []
  },
  {
   "cell_type": "code",
   "execution_count": null,
   "id": "768d750b-19ca-4aaa-bace-3506bfaa42e8",
   "metadata": {},
   "outputs": [],
   "source": []
  },
  {
   "cell_type": "code",
   "execution_count": null,
   "id": "90dca566-5804-4096-87d4-b902c330496a",
   "metadata": {},
   "outputs": [],
   "source": []
  },
  {
   "cell_type": "code",
   "execution_count": null,
   "id": "596fd105-7130-44a4-a2d2-b29ae77fe298",
   "metadata": {},
   "outputs": [],
   "source": []
  },
  {
   "cell_type": "code",
   "execution_count": null,
   "id": "f66ac21f-3252-403a-9070-c9103a0fb718",
   "metadata": {},
   "outputs": [],
   "source": []
  }
 ],
 "metadata": {
  "kernelspec": {
   "display_name": "Python 3 (ipykernel)",
   "language": "python",
   "name": "python3"
  },
  "language_info": {
   "codemirror_mode": {
    "name": "ipython",
    "version": 3
   },
   "file_extension": ".py",
   "mimetype": "text/x-python",
   "name": "python",
   "nbconvert_exporter": "python",
   "pygments_lexer": "ipython3",
   "version": "3.11.11"
  }
 },
 "nbformat": 4,
 "nbformat_minor": 5
}
