{
 "cells": [
  {
   "cell_type": "code",
   "execution_count": 1,
   "id": "e06f9bfe-5b6e-411e-9a96-0ac82c841e9d",
   "metadata": {},
   "outputs": [],
   "source": [
    "# 1. Install required packages (run once)\n",
    "#!pip install langchain langchain-community unstructured chromadb\n",
    "#!pip install langchain unstructured chromadb"
   ]
  },
  {
   "cell_type": "code",
   "execution_count": 2,
   "id": "2253b9ab-4fef-4dee-9feb-9f8391751dd1",
   "metadata": {},
   "outputs": [],
   "source": [
    "# 2. Configuration — edit these:\n",
    "GITHUB_REPO_URL = \"https://github.com/devitocodes/devito.git\"\n",
    "CLONE_DIR        = \"devito\" \n",
    "PERSIST_DIR     = \"chroma_index\" \n",
    "CHUNK_SIZE       = 500\n",
    "CHUNK_OVERLAP    = 100\n",
    "\n",
    "import os, shutil\n",
    "from pathlib import Path\n",
    "\n",
    "import nbformat\n",
    "from langchain.schema import Document\n",
    "from langchain_community.document_loaders.python import PythonLoader\n",
    "from langchain.text_splitter import RecursiveCharacterTextSplitter\n",
    "from langchain.embeddings import OpenAIEmbeddings\n",
    "from langchain.vectorstores import Chroma\n"
   ]
  },
  {
   "cell_type": "code",
   "execution_count": 11,
   "id": "28816af0-fe5b-4f10-83d4-ac63668e9a68",
   "metadata": {},
   "outputs": [],
   "source": [
    "# 3. Clone (or re-clone) the repo\n",
    "if os.path.exists(CLONE_DIR):\n",
    "    shutil.rmtree(CLONE_DIR)\n",
    "!git clone {GITHUB_REPO_URL} {CLONE_DIR}"
   ]
  },
  {
   "cell_type": "code",
   "execution_count": 3,
   "id": "54d1b325-0f61-4e14-8a7e-57ed47742b38",
   "metadata": {},
   "outputs": [
    {
     "name": "stdout",
     "output_type": "stream",
     "text": [
      "Loaded 1133 documents (cells + scripts).\n"
     ]
    }
   ],
   "source": [
    "# ─── 4. Load all .ipynb & .py into LangChain Documents ──────────────────────────\n",
    "def load_repo_documents(repo_path: str):\n",
    "    docs = []\n",
    "    # 4a. Notebooks via nbformat\n",
    "    for nb_path in Path(repo_path).rglob(\"*.ipynb\"):\n",
    "        nb = nbformat.read(nb_path, as_version=4)\n",
    "        for idx, cell in enumerate(nb.cells):\n",
    "            if cell.cell_type in (\"markdown\", \"code\"):\n",
    "                docs.append(\n",
    "                    Document(\n",
    "                        page_content=cell.source,\n",
    "                        metadata={\n",
    "                            \"source\": str(nb_path),\n",
    "                            \"cell_type\": cell.cell_type,\n",
    "                            \"cell_index\": idx\n",
    "                        }\n",
    "                    )\n",
    "                )\n",
    "    # 4b. Python scripts via PythonLoader\n",
    "    for py_path in Path(repo_path).rglob(\"*.py\"):\n",
    "        loader = PythonLoader(str(py_path))\n",
    "        docs.extend(loader.load())\n",
    "    return docs\n",
    "\n",
    "Doc_path = CLONE_DIR+'/examples/seismic/'\n",
    "docs = load_repo_documents(Doc_path)\n",
    "print(f\"Loaded {len(docs)} documents (cells + scripts).\")"
   ]
  },
  {
   "cell_type": "code",
   "execution_count": 5,
   "id": "c51847f1-c8dc-4ed5-b66e-a564fa909fd7",
   "metadata": {},
   "outputs": [
    {
     "name": "stdout",
     "output_type": "stream",
     "text": [
      "OPENAI_API_KEY found: True\n"
     ]
    }
   ],
   "source": [
    "api_key = os.environ[\"OPENAI_API_KEY\"]\n",
    "print(\"OPENAI_API_KEY found:\", \"OPENAI_API_KEY\" in os.environ)\n"
   ]
  },
  {
   "cell_type": "code",
   "execution_count": null,
   "id": "cb7feda9-8650-474c-8001-31e2df79d126",
   "metadata": {},
   "outputs": [],
   "source": []
  },
  {
   "cell_type": "code",
   "execution_count": 6,
   "id": "e6cb1ce0-04c5-47fc-a87d-09c2c090cb78",
   "metadata": {},
   "outputs": [
    {
     "name": "stdout",
     "output_type": "stream",
     "text": [
      "Split into 2671 chunks.\n"
     ]
    },
    {
     "name": "stderr",
     "output_type": "stream",
     "text": [
      "/var/folders/p9/3ntg1y_x43j9tqtmr319trvw0000gn/T/ipykernel_3843/1268208500.py:11: LangChainDeprecationWarning: The class `OpenAIEmbeddings` was deprecated in LangChain 0.0.9 and will be removed in 1.0. An updated version of the class exists in the :class:`~langchain-openai package and should be used instead. To use it run `pip install -U :class:`~langchain-openai` and import as `from :class:`~langchain_openai import OpenAIEmbeddings``.\n",
      "  embeddings = OpenAIEmbeddings()  # needs OPENAI_API_KEY in your env\n"
     ]
    },
    {
     "name": "stdout",
     "output_type": "stream",
     "text": [
      "Chroma index persisted.\n"
     ]
    },
    {
     "name": "stderr",
     "output_type": "stream",
     "text": [
      "/var/folders/p9/3ntg1y_x43j9tqtmr319trvw0000gn/T/ipykernel_3843/1268208500.py:17: LangChainDeprecationWarning: Since Chroma 0.4.x the manual persistence method is no longer supported as docs are automatically persisted.\n",
      "  vectordb.persist()\n"
     ]
    }
   ],
   "source": [
    "# ─── 5. Chunk, embed, and persist in Chroma ──────────────────────────────────────\n",
    "# 5a. Chunk\n",
    "splitter = RecursiveCharacterTextSplitter(\n",
    "    chunk_size=CHUNK_SIZE,\n",
    "    chunk_overlap=CHUNK_OVERLAP\n",
    ")\n",
    "chunks = splitter.split_documents(docs)\n",
    "print(f\"Split into {len(chunks)} chunks.\")\n",
    "\n",
    "# 5b. Embed & index\n",
    "embeddings = OpenAIEmbeddings()  # needs OPENAI_API_KEY in your env\n",
    "vectordb   = Chroma.from_documents(\n",
    "    documents=chunks,\n",
    "    embedding=embeddings,\n",
    "    persist_directory=PERSIST_DIR\n",
    ")\n",
    "vectordb.persist()\n",
    "print(\"Chroma index persisted.\")"
   ]
  },
  {
   "cell_type": "code",
   "execution_count": null,
   "id": "da103ba5-242a-45a9-9f86-12881b5ecdd9",
   "metadata": {},
   "outputs": [],
   "source": []
  },
  {
   "cell_type": "code",
   "execution_count": 7,
   "id": "ddceabee-a83e-4c24-96be-918fd77dbed1",
   "metadata": {},
   "outputs": [
    {
     "name": "stderr",
     "output_type": "stream",
     "text": [
      "/var/folders/p9/3ntg1y_x43j9tqtmr319trvw0000gn/T/ipykernel_3843/2865884057.py:8: LangChainDeprecationWarning: The class `Chroma` was deprecated in LangChain 0.2.9 and will be removed in 1.0. An updated version of the class exists in the :class:`~langchain-chroma package and should be used instead. To use it run `pip install -U :class:`~langchain-chroma` and import as `from :class:`~langchain_chroma import Chroma``.\n",
      "  vectordb   = Chroma(\n"
     ]
    }
   ],
   "source": [
    "# ─── Inspect your chunks ──────────────────────────────────────────────────────────\n",
    "from langchain.embeddings import OpenAIEmbeddings\n",
    "from langchain.vectorstores import Chroma\n",
    "from langchain.text_splitter import RecursiveCharacterTextSplitter\n",
    "\n",
    "# (Re-load Chroma and embeddings if you restarted the kernel)\n",
    "embeddings = OpenAIEmbeddings()  \n",
    "vectordb   = Chroma(\n",
    "    persist_directory=PERSIST_DIR, \n",
    "    embedding_function=embeddings\n",
    ")"
   ]
  },
  {
   "cell_type": "code",
   "execution_count": 8,
   "id": "b4d65a0d-6863-4a52-860f-9485cc49eb70",
   "metadata": {},
   "outputs": [],
   "source": [
    "# (Re-split your docs if `chunks` isn't in memory)\n",
    "# ––– you can skip this block if you still have `chunks` from before –––\n",
    "from pathlib import Path\n",
    "import nbformat\n",
    "from langchain.schema import Document\n",
    "from langchain_community.document_loaders.python import PythonLoader\n",
    "\n",
    "def load_repo_documents(repo_path: str):\n",
    "    docs = []\n",
    "    # Notebooks\n",
    "    for nb_path in Path(repo_path).rglob(\"*.ipynb\"):\n",
    "        nb = nbformat.read(nb_path, as_version=4)\n",
    "        for idx, cell in enumerate(nb.cells):\n",
    "            if cell.cell_type in (\"markdown\", \"code\"):\n",
    "                docs.append(Document(page_content=cell.source))\n",
    "    # Python files\n",
    "    for py_path in Path(repo_path).rglob(\"*.py\"):\n",
    "        docs.extend(PythonLoader(str(py_path)).load())\n",
    "    return docs\n",
    "\n"
   ]
  },
  {
   "cell_type": "code",
   "execution_count": 9,
   "id": "ccbcd75f-dd55-4377-a6e3-c1d17e6e5a1e",
   "metadata": {},
   "outputs": [
    {
     "name": "stdout",
     "output_type": "stream",
     "text": [
      "🔖 Total chunks: 2671\n",
      "  • Chunk 0: 310 characters\n",
      "  • Chunk 1: 141 characters\n",
      "  • Chunk 2: 322 characters\n",
      "  • Chunk 3: 213 characters\n",
      "  • Chunk 4: 69 characters\n",
      "\n",
      "📄 Sample from chunk 0:\n",
      "\n",
      "import numpy as np\n",
      "from scipy.special import hankel2\n",
      "from examples.seismic.acoustic import AcousticWaveSolver\n",
      "from examples.seismic import Model, RickerSource, Receiver, TimeAxis, AcquisitionGeometry\n",
      "from devito import set_log_level\n",
      "\n",
      "import matplotlib.pyplot as plt\n",
      "from matplotlib import cm\n",
      "%matplotlib inline\n",
      "…\n",
      "\n",
      "🔢 Embedding type: <class 'list'>\n",
      "🔢 Embedding length (dimensionality): 1536\n",
      "🔢 First 10 dims: [0.007253124227135887, 0.018491968126319654, 0.016193363477338282, -0.024400555950403212, -0.015766059650513142, 0.03150264853009067, 0.013828455181687098, -0.01881612984280546, -0.010829956975887001, -0.0348916158243366]\n"
     ]
    }
   ],
   "source": [
    "\n",
    "docs    = load_repo_documents(Doc_path)\n",
    "splitter = RecursiveCharacterTextSplitter(chunk_size=CHUNK_SIZE, chunk_overlap=CHUNK_OVERLAP)\n",
    "chunks  = splitter.split_documents(docs)\n",
    "\n",
    "# 1️⃣ How many chunks?  Length of each?\n",
    "total = len(chunks)\n",
    "lengths = [len(c.page_content) for c in chunks]\n",
    "\n",
    "print(f\"🔖 Total chunks: {total}\")\n",
    "for i in range(min(5, total)):\n",
    "    print(f\"  • Chunk {i}: {lengths[i]} characters\")\n",
    "\n",
    "# Show a passage from chunk 0\n",
    "print(\"\\n📄 Sample from chunk 0:\\n\")\n",
    "print(chunks[0].page_content[:500].rstrip() + \"\\n…\")\n",
    "\n",
    "# 2️⃣ Embedding format & size\n",
    "# Embed that same chunk to inspect the vector\n",
    "vec = embeddings.embed_documents([chunks[0].page_content])[0]\n",
    "\n",
    "print(f\"\\n🔢 Embedding type: {type(vec)}\")\n",
    "print(f\"🔢 Embedding length (dimensionality): {len(vec)}\")\n",
    "print(f\"🔢 First 10 dims: {vec[:10]}\")"
   ]
  },
  {
   "cell_type": "code",
   "execution_count": null,
   "id": "1dbffcf2-b95a-4b54-a5e4-8a316d3d818c",
   "metadata": {},
   "outputs": [],
   "source": []
  },
  {
   "cell_type": "code",
   "execution_count": 30,
   "id": "cd95c926-56d5-4fec-aa50-27da81aa7683",
   "metadata": {},
   "outputs": [],
   "source": [
    "from langchain.embeddings import OpenAIEmbeddings\n",
    "from langchain.vectorstores import Chroma\n",
    "\n",
    "vectordb = Chroma(\n",
    "    persist_directory=PERSIST_DIR,\n",
    "    embedding_function=OpenAIEmbeddings()\n",
    ")\n",
    "results = vectordb.similarity_search(\"forward wavefield simulation using devito\", k=10, filter={\"cell_type\": \"code\"})"
   ]
  },
  {
   "cell_type": "code",
   "execution_count": 31,
   "id": "aae97237-e28d-43b0-a91c-d8ccddff28a7",
   "metadata": {},
   "outputs": [
    {
     "name": "stdout",
     "output_type": "stream",
     "text": [
      "10\n"
     ]
    }
   ],
   "source": [
    "print(len(results))"
   ]
  },
  {
   "cell_type": "code",
   "execution_count": 32,
   "id": "57c1e126-c9a5-4b36-b0b2-65d36070f2b7",
   "metadata": {},
   "outputs": [
    {
     "name": "stdout",
     "output_type": "stream",
     "text": [
      "page_content='from devito import *\n",
      "from examples.seismic.source import WaveletSource, RickerSource, GaborSource, TimeAxis\n",
      "from examples.seismic import plot_image\n",
      "import numpy as np\n",
      "\n",
      "from sympy import init_printing, latex\n",
      "init_printing(use_latex='mathjax')' metadata={'cell_type': 'code', 'source': 'devito/examples/seismic/tutorials/06_elastic.ipynb', 'cell_index': 1}\n",
      "\n",
      "\n",
      "page_content='from devito import Function\n",
      "from examples.seismic import Receiver\n",
      "\n",
      "# Serial FWI objective function\n",
      "def fwi_objective_single_shot(model, geometry, d_obs):\n",
      "\n",
      "    # Devito objects for gradient and data residual\n",
      "    grad = Function(name=\"grad\", grid=model.grid)\n",
      "    residual = Receiver(name='rec', grid=model.grid,\n",
      "                        time_range=geometry.time_axis, \n",
      "                        coordinates=geometry.rec_positions)\n",
      "    solver = AcousticWaveSolver(model, geometry, space_order=4)' metadata={'cell_type': 'code', 'source': 'devito/examples/seismic/tutorials/04_dask.ipynb', 'cell_index': 23}\n",
      "\n",
      "\n",
      "page_content='from devito import div45, grad45\n",
      "\n",
      "all_node = [[NODE for _ in range(model.grid.dim)] for _ in range(model.grid.dim)]\n",
      "all_vert = [model.grid.dimensions for _ in range(model.grid.dim)] \n",
      "\n",
      "so = 8\n",
      "v_rsfd = VectorTimeFunction(name='vr', grid=model.grid, space_order=so, time_order=1, staggered=all_vert)\n",
      "tau_rsfd = TensorTimeFunction(name='tr', grid=model.grid, space_order=so, time_order=1, staggered=all_node)\n",
      "\n",
      "# The source injection term\n",
      "src_xx = src.inject(field=v_rsfd.forward.diagonal(), expr=s*src)' metadata={'source': 'devito/examples/seismic/tutorials/06_elastic_varying_parameters.ipynb', 'cell_index': 37, 'cell_type': 'code'}\n"
     ]
    }
   ],
   "source": [
    "print(results[0])\n",
    "print('\\n')\n",
    "print(results[1])\n",
    "print('\\n')\n",
    "print(results[2])"
   ]
  },
  {
   "cell_type": "code",
   "execution_count": null,
   "id": "cedbbc87-2c5c-4470-a9ae-cfc8608537af",
   "metadata": {},
   "outputs": [],
   "source": []
  },
  {
   "cell_type": "code",
   "execution_count": 33,
   "id": "8f985109-51c6-4a7c-ad0e-bb99282461fa",
   "metadata": {},
   "outputs": [
    {
     "name": "stdout",
     "output_type": "stream",
     "text": [
      "\n",
      "=== Simulation snippet #1 from devito/examples/seismic/tutorials/06_elastic_varying_parameters.ipynb ===\n",
      "\n",
      "from devito import div45, grad45\n",
      "\n",
      "all_node = [[NODE for _ in range(model.grid.dim)] for _ in range(model.grid.dim)]\n",
      "all_vert = [model.grid.dimensions for _ in range(model.grid.dim)] \n",
      "\n",
      "so = 8\n",
      "v_rsfd = VectorTimeFunction(name='vr', grid=model.grid, space_order=so, time_order=1, staggered=all_vert)\n",
      "tau_rsfd = TensorTimeFunction(name='tr', grid=model.grid, space_order=so, time_order=1, staggered=all_node)\n",
      "\n",
      "# The source injection term\n",
      "src_xx = src.inject(field=v_rsfd.forward.diagonal(), expr=s*src)\n"
     ]
    }
   ],
   "source": [
    "# # Post‐filter for lines you expect, e.g. look for \"TimeFunction\" or \"Operator\"\n",
    "# sims = [d for d in results if \"TimeFunction\" in d.page_content or \"Operator\" in d.page_content]\n",
    "\n",
    "# for i, doc in enumerate(sims[:3], 1):\n",
    "#     print(f\"\\n=== Simulation snippet #{i} from {doc.metadata['source']} ===\\n\")\n",
    "#     print(doc.page_content)"
   ]
  },
  {
   "cell_type": "code",
   "execution_count": 35,
   "id": "02bda47c-ccf8-405a-9994-ffce612007a0",
   "metadata": {},
   "outputs": [
    {
     "name": "stdout",
     "output_type": "stream",
     "text": [
      "\n",
      "=== Simulation snippet #1 ===\n",
      "Source: devito/examples/seismic/tutorials/06_elastic_varying_parameters.ipynb  Cell: 37\n",
      "\n",
      "from devito import div45, grad45\n",
      "\n",
      "all_node = [[NODE for _ in range(model.grid.dim)] for _ in range(model.grid.dim)]\n",
      "all_vert = [model.grid.dimensions for _ in range(model.grid.dim)] \n",
      "\n",
      "so = 8\n",
      "v_rsfd = VectorTimeFunction(name='vr', grid=model.grid, space_order=so, time_order=1, staggered=all_vert)\n",
      "tau_rsfd = TensorTimeFunction(name='tr', grid=model.grid, space_order=so, time_order=1, staggered=all_node)\n",
      "\n",
      "# The source injection term\n",
      "src_xx = src.inject(field=v_rsfd.forward.diagonal(), expr=s*src)\n",
      "\n",
      "=== Simulation snippet #2 ===\n",
      "Source: devito/examples/seismic/tutorials/17_fourier_mode.ipynb  Cell: 3\n",
      "\n",
      "from devito import *\n",
      "\n",
      "from examples.seismic import demo_model, AcquisitionGeometry, plot_velocity\n",
      "\n",
      "import matplotlib.pyplot as plt\n",
      "from IPython.display import Code\n"
     ]
    }
   ],
   "source": [
    "keywords = [\"demo_model\", \"TimeFunction\", \"Operator\", \"AcquisitionGeometry\"]\n",
    "sims = [d for d in results \n",
    "        if any(kw in d.page_content for kw in keywords)]\n",
    "\n",
    "# 3. Print out the first few full snippets\n",
    "for i, doc in enumerate(sims[:5], 1):\n",
    "    print(f\"\\n=== Simulation snippet #{i} ===\")\n",
    "    print(f\"Source: {doc.metadata['source']}  Cell: {doc.metadata['cell_index']}\\n\")\n",
    "    print(doc.page_content)"
   ]
  },
  {
   "cell_type": "code",
   "execution_count": null,
   "id": "37162f33-4fde-472e-9461-759e323a6a7d",
   "metadata": {},
   "outputs": [],
   "source": []
  }
 ],
 "metadata": {
  "kernelspec": {
   "display_name": "Python 3 (ipykernel)",
   "language": "python",
   "name": "python3"
  },
  "language_info": {
   "codemirror_mode": {
    "name": "ipython",
    "version": 3
   },
   "file_extension": ".py",
   "mimetype": "text/x-python",
   "name": "python",
   "nbconvert_exporter": "python",
   "pygments_lexer": "ipython3",
   "version": "3.11.11"
  }
 },
 "nbformat": 4,
 "nbformat_minor": 5
}
